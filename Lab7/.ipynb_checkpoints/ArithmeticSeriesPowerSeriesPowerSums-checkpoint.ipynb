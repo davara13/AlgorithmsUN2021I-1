{
 "cells": [
  {
   "cell_type": "markdown",
   "metadata": {
    "id": "r4rXWI4gCN5B"
   },
   "source": [
    "# Arithmetic Series\n",
    "\n",
    "## Modified from Arithmetic Series -  [Wolfram MathWorld](https://mathworld.wolfram.com/ArithmeticSeries.html)\n",
    "\n",
    "\n",
    "An arithmetic sequence $\\{a_k\\}$ for $k=1, 2, ..., $ in which each term is computed from the previous one by adding (or subtracting) a constant $d$. \n",
    "\n",
    "\\begin{align*}\n",
    "a_1 & \\\\\n",
    "a_2 &\\ \\ =\\ \\ a_1 + d  \\\\\n",
    "a_3 &\\ \\ =\\ \\ a_2 + d \\ \\ =\\ \\ a_1 + 2d   \\\\\n",
    "a_4 &\\ \\ =\\ \\ a_3 + d \\ \\ =\\ \\ a_2 + 2d \\ \\ =\\ \\ a_1 + 3d  \\\\\n",
    "\\vdots\\\\\n",
    "a_k &\\ \\ =\\ \\ a_{(k-1)}+d \\ =\\  a_{(k-2)}+2d \\ =\\  \\ldots \\ =\\  \\ a_1+(k-1)d\n",
    "\\end{align*}\n",
    "\n",
    "Therefore, for $k>=1$,\n",
    "\n",
    "$$ a_k = a_1 + (k-1)d$$\n",
    "\n",
    "With $a_1$ and $d$ given.\n",
    "\n",
    "<br /> \n",
    "\n",
    "The sequence of the partial sum of the first $n$ terms of a sequence is called a series, in the case of an arithemetic sequence the series is called an arithmetic series.\n",
    "\n",
    "If  $a_1= 1$ and $d=1$ we have, the simplest arithmnetic sequence,  the natural numbers sequence $\\{a_k = k \\}$ for  $k=1, 2, ..., $  i.e. the seuqnece\n",
    "$$1, 2, ...,$$\n",
    "The  corresponmding series is \n",
    "$$ \n",
    "S_n = 1 + 2+ \\ldots + (n-1)+ n = \\sum_{k=1}^n k\n",
    "$$\n",
    "can be calculated as a function of $n$.\n",
    "\n",
    "Assume that we allign one $S_{n-1}$ with a second  $S_{n-1}$ that have the terms adden reverse order and you add term to term, we have\n",
    "\\begin{array}{llclclclclc}\n",
    "  S_{n-1} &=& 1 &+& 2 &+& \\ldots &+& (n-2) &+& (n-1) \\\\\n",
    "  S_{n-1} &=& (n-1)  &+& (n-2)  &+& \\ldots   &+& 2   &+& 1 \\\\\n",
    "   \\hline \\\\\n",
    "   2S_{n-1} &=& n  &+& n  &+& \\ldots   &+& n   &+& n \\\\\n",
    "\\end{array}\n",
    "so\n",
    "$$  2S_{n-1} = (n-1)n $$\n",
    "then\n",
    "$$  S_{n-1} = \\frac{1}{2} (n-1)n$$\n",
    "therefore \n",
    "$$  S_{n} = \\frac{1}{2} n(n+1)$$\n",
    "\n",
    "\n",
    "\\begin{align*}\n",
    "S_n &= \\sum_{k=1}^n a_k\t\\\\\n",
    "    &= \\sum_{k=1}^n[a_1+(k-1)d]\t\t\\\\\n",
    "    &= na_1 + d \\sum_{k=1}^n(k-1)\t\\\\\n",
    "    &= na_1 + d \\sum_{k=0}^{n-1} k\t\\\\\n",
    "    &= na_1 + d \\sum_{k=1}^{n-1} k\t\\\\\n",
    "    &= na_1 +  \\frac{1}{2} d(n-1)n\\\\\n",
    "\\end{align*}\n",
    "so \n",
    "$$ S_n =  \\frac{1}{2} n[2 a_1 +d(n-1)].$$\n",
    "\n",
    "Note, however, that\n",
    "$$a_1+a_n=a_1+[a_1+d(n-1)]=2a_1+d(n-1),$$ \t\n",
    "so\n",
    "$$S_n = \\frac{1}{2}n(a_1+a_n),$$\n",
    "\n",
    "\n",
    "or $n$ times the arithmetic mean of the first and last terms! This is the trick Gauss used as a schoolboy to solve the problem of summing the integers from $1$ to $100$ given as busy-work by his teacher. While his classmates toiled away doing the addition longhand, Gauss wrote a single number, the correct answer\n",
    "\n",
    "$$\\frac{1}{2}(100)(1+100)=50·101=5050$$ \t\n",
    "on his slate (Burton 1989, pp. 80-81; Hoffman 1998, p. 207). When the answers were examined, Gauss's proved to be the only correct one.\n",
    "\n",
    "<br /> \n",
    "\n",
    "If  the sequence starts at index $0$, $\\{a_k\\}$ for $ k=0, 1, 2, ..., $ we have\n",
    "\n",
    "\\begin{align*}\n",
    "a_0 & \\\\\n",
    "a_1 &\\ \\ =\\ \\ a_0 + d  \\\\\n",
    "a_2 &\\ \\ =\\ \\ a_1 + d \\ \\ =\\ \\ a_0 + 2d   \\\\\n",
    "a_3 &\\ \\ =\\ \\ a_2 + d \\ \\ =\\ \\ a_1 + 2d \\ \\ =\\ \\ a_0 + 3d  \\\\\n",
    "\\vdots\\\\\n",
    "a_k &\\ \\ =\\ \\ a_{(k-1)}+d \\ =\\  a_{(k-2)}+2d \\ =\\  \\ldots \\ = \\  \\ a_1+(k-1)d \\ \\ =\\ \\ a_0+kd\n",
    "\\end{align*}\n",
    "\n",
    "<br /> \n",
    "for given   $a_0$ and $d$.\n",
    "\n",
    "In this case the sum of the first $n$ terms  of  the arithemnetic sequence  is then given by\n",
    "\\begin{align*}\n",
    "S_n &= \\sum_{k=0}^{n-1} a_k\t\\\\\n",
    "    &= \\sum_{k=0}^{n-1}[a_0+kd]\t\t\\\\\n",
    "    &= n a_0 + d \\sum_{k=0}^{n-1} k\t\\\\\n",
    "    &= n a_0 + d \\sum_{k=1}^{n-1} k\t\\\\\n",
    "    &= n a_0+  \\frac{1}{2} d(n-1)n \\\\\n",
    "\\end{align*}\n",
    "so \n",
    "$$ S_n =  \\frac{1}{2} n[2 a_0 + d(n-1)].$$\n",
    "<br /> \n",
    "\n"
   ]
  },
  {
   "cell_type": "markdown",
   "metadata": {
    "id": "GfBh-QHRcods"
   },
   "source": [
    "### Code\n",
    "####  The simplest arithmetic sequence and series\n",
    "\n",
    "The simplest arithmnetic sequence is \n",
    "\n",
    "\n",
    "$$S_n = 1, 2, ...,$$"
   ]
  },
  {
   "cell_type": "markdown",
   "metadata": {
    "id": "n36eWqEXiktl"
   },
   "source": [
    "The following code plots the first $n = 15$ terms of the simplest arithmnetic sequence \n",
    "$$\\{a_n = n\\} \\text{ for } n =1,2,\\ldots  $$\n",
    "i.e\n",
    "$$\\{a_n = n\\} =1,2,\\ldots $$\n",
    "adn the corresponding terms of the simplest arithmnetic series \n",
    "$$  S_n = 1 + 2+ \\ldots + (n-1)+ n = \\sum_{k=1}^n =  \\frac{1}{2} n(n+1)$$\n"
   ]
  },
  {
   "cell_type": "markdown",
   "metadata": {
    "id": "_VyGiunIZknK"
   },
   "source": [
    "Plot"
   ]
  },
  {
   "cell_type": "code",
   "execution_count": null,
   "metadata": {
    "colab": {
     "base_uri": "https://localhost:8080/",
     "height": 282
    },
    "id": "gx3Q4uo-ONCi",
    "outputId": "eac3b2e8-d1ae-4e56-e0e9-05c2635606c2"
   },
   "outputs": [
    {
     "data": {
      "text/plain": [
       "<matplotlib.legend.Legend at 0x7fcf5efdb190>"
      ]
     },
     "execution_count": 24,
     "metadata": {
      "tags": []
     },
     "output_type": "execute_result"
    },
    {
     "data": {
      "image/png": "[encoded data removed]",
      "text/plain": [
       "<Figure size 432x288 with 1 Axes>"
      ]
     },
     "metadata": {
      "needs_background": "light",
      "tags": []
     },
     "output_type": "display_data"
    }
   ],
   "source": [
    "import matplotlib.pyplot as plt\n",
    "\n",
    "n = 15\n",
    "S_n = 0\n",
    "Serie_S_n=[]\n",
    "Sequence_a_n =[]\n",
    "for i in range(1,n+1):\n",
    "  S_n = S_n + i\n",
    "  Serie_S_n.append(S_n)\n",
    "  Sequence_a_n.append(i)\n",
    " \n",
    "plt.plot(Serie_S_n, color='black',label='Serie_S_n')\n",
    "plt.plot(Sequence_a_n, color='red',label='Sequence_a_n')\n",
    "plt.legend()\n",
    "\n",
    "\n"
   ]
  },
  {
   "cell_type": "markdown",
   "metadata": {
    "id": "0ybfJdHxZGvW"
   },
   "source": [
    "The following code computes the  $n=10000000$  term of the airthmetic series\n",
    "$$  S_n = 1 + 2+ \\ldots + (n-1)+ n = \\sum_{k=1}^n =  \\frac{1}{2} n(n+1)$$"
   ]
  },
  {
   "cell_type": "code",
   "execution_count": null,
   "metadata": {
    "colab": {
     "base_uri": "https://localhost:8080/"
    },
    "id": "99xYHDQycnol",
    "outputId": "f5c1399a-1428-4f9e-8a63-02254447ee60"
   },
   "outputs": [
    {
     "name": "stdout",
     "output_type": "stream",
     "text": [
      "50000005000000\n"
     ]
    }
   ],
   "source": [
    "n = 10000000\n",
    "S_n = 0\n",
    "for i in range(1,n+1):  # range(n+1) goes form 1 to n\n",
    "  S_n = S_n + i \n",
    "print(S_n)"
   ]
  },
  {
   "cell_type": "code",
   "execution_count": null,
   "metadata": {
    "colab": {
     "base_uri": "https://localhost:8080/"
    },
    "id": "RGCSuDGHeFwH",
    "outputId": "a813baea-83ca-44c5-dea0-619f19bb435a"
   },
   "outputs": [
    {
     "data": {
      "text/plain": [
       "50000005000000.0"
      ]
     },
     "execution_count": 3,
     "metadata": {
      "tags": []
     },
     "output_type": "execute_result"
    }
   ],
   "source": [
    "(1/2)*n*(n+1)"
   ]
  },
  {
   "cell_type": "markdown",
   "metadata": {
    "id": "bg8zxAhcecpk"
   },
   "source": [
    "The following code computes the $n=10000000$ term of the airthmetic series \n",
    "$$ S_n  = \\sum_{k=1}^n a_k$$\n",
    "\n",
    "<br /> \n",
    "for the airthmetic sequence $a_k = 10 + 3 (k-1) $ for $k=1,2,\\ldots$\n",
    "\n",
    "<br /> \n",
    "$$ 10,13,16,19,21,\\ldots$$\n"
   ]
  },
  {
   "cell_type": "markdown",
   "metadata": {
    "id": "hg3ixQ3bZiVh"
   },
   "source": [
    "Plot"
   ]
  },
  {
   "cell_type": "code",
   "execution_count": 18,
   "metadata": {
    "colab": {
     "base_uri": "https://localhost:8080/"
    },
    "id": "w8FP1XqSgnie",
    "outputId": "deebe6b5-bb5c-42ff-cd1e-66552bf8ee4e"
   },
   "outputs": [
    {
     "name": "stdout",
     "output_type": "stream",
     "text": [
      "150000085000000\n"
     ]
    }
   ],
   "source": [
    "n = 10000000\n",
    "a = 10\n",
    "d = 3\n",
    "S_n = 0\n",
    "for i in range(1,n+1):  # range(n+19 goes form 1 to n\n",
    "  S_n = S_n + a + d * (i-1) \n",
    "print(S_n)"
   ]
  },
  {
   "cell_type": "code",
   "execution_count": null,
   "metadata": {
    "colab": {
     "base_uri": "https://localhost:8080/"
    },
    "id": "g_38RfB_hgg2",
    "outputId": "d84efd2f-5271-4bb6-e6a3-9292c4f29a3e"
   },
   "outputs": [
    {
     "data": {
      "text/plain": [
       "150000085000000.0"
      ]
     },
     "execution_count": 5,
     "metadata": {
      "tags": []
     },
     "output_type": "execute_result"
    }
   ],
   "source": [
    "n*(2*a +d*(n-1))/2"
   ]
  },
  {
   "cell_type": "markdown",
   "metadata": {
    "id": "r9qzONSlZq2q"
   },
   "source": [
    "## Your own example of arithmetic series "
   ]
  },
  {
   "cell_type": "markdown",
   "metadata": {},
   "source": [
    "### Example 1"
   ]
  },
  {
   "cell_type": "markdown",
   "metadata": {},
   "source": [
    "The following code computes the $n=10000000$ term of the airthmetic series \n",
    "$$ S_n  = \\sum_{k=1}^n a_k$$\n",
    "\n",
    "<br /> \n",
    "for the airthmetic sequence $a_k = 2 (k-1) $ for $k=1,2,\\ldots$\n",
    "\n",
    "<br /> \n",
    "$$ 2,4,6,8,1,\\ldots$$\n"
   ]
  },
  {
   "cell_type": "code",
   "execution_count": 10,
   "metadata": {
    "id": "sJ1yhp4lNVw9"
   },
   "outputs": [
    {
     "name": "stdout",
     "output_type": "stream",
     "text": [
      "99999990000000\n"
     ]
    }
   ],
   "source": [
    "n = 10000000\n",
    "d = 2\n",
    "S_n = 0\n",
    "for i in range(1,n+1):  # range(n+19 goes form 1 to n\n",
    "  S_n = S_n + d * (i-1) \n",
    "print(S_n)"
   ]
  },
  {
   "cell_type": "code",
   "execution_count": 11,
   "metadata": {},
   "outputs": [
    {
     "data": {
      "text/plain": [
       "99999990000000.0"
      ]
     },
     "execution_count": 11,
     "metadata": {},
     "output_type": "execute_result"
    }
   ],
   "source": [
    "n*(2*a +d*(n-1))/2"
   ]
  },
  {
   "cell_type": "markdown",
   "metadata": {},
   "source": [
    "### Example 2"
   ]
  },
  {
   "cell_type": "markdown",
   "metadata": {},
   "source": [
    "The following code computes the $n=10000000$ term of the airthmetic series \n",
    "$$ S_n  = \\sum_{k=1}^n a_k$$\n",
    "\n",
    "<br /> \n",
    "for the airthmetic sequence $a_k = 150 + 10 (k-1) $ for $k=1,2,\\ldots$\n",
    "\n",
    "<br /> \n",
    "$$ 150,160,170,180,190,\\ldots$$"
   ]
  },
  {
   "cell_type": "code",
   "execution_count": 19,
   "metadata": {},
   "outputs": [
    {
     "name": "stdout",
     "output_type": "stream",
     "text": [
      "500001450000000\n"
     ]
    }
   ],
   "source": [
    "n = 10000000\n",
    "a = 150\n",
    "d = 10\n",
    "S_n = 0\n",
    "for i in range(1,n+1):  # range(n+19 goes form 1 to n\n",
    "  S_n = S_n + a + d * (i-1) \n",
    "print(S_n)"
   ]
  },
  {
   "cell_type": "code",
   "execution_count": 20,
   "metadata": {},
   "outputs": [
    {
     "data": {
      "text/plain": [
       "500001450000000.0"
      ]
     },
     "execution_count": 20,
     "metadata": {},
     "output_type": "execute_result"
    }
   ],
   "source": [
    "n*(2*a +d*(n-1))/2"
   ]
  },
  {
   "cell_type": "markdown",
   "metadata": {},
   "source": [
    "### Gráfica de la serie"
   ]
  },
  {
   "cell_type": "code",
   "execution_count": 21,
   "metadata": {},
   "outputs": [
    {
     "data": {
      "text/plain": [
       "<matplotlib.legend.Legend at 0x7f55cd01e580>"
      ]
     },
     "execution_count": 21,
     "metadata": {},
     "output_type": "execute_result"
    },
    {
     "data": {
      "image/png": "[encoded data removed]",
      "text/plain": [
       "<Figure size 432x288 with 1 Axes>"
      ]
     },
     "metadata": {
      "needs_background": "light"
     },
     "output_type": "display_data"
    }
   ],
   "source": [
    "import matplotlib.pyplot as plt\n",
    "\n",
    "n = 15\n",
    "S_n = 0\n",
    "Serie_S_n=[]\n",
    "Sequence_a_n =[]\n",
    "for i in range(1,n+1):\n",
    "  S_n =  S_n + d * (i-1) \n",
    "  Serie_S_n.append(S_n)\n",
    "  Sequence_a_n.append(i)\n",
    " \n",
    "plt.plot(Serie_S_n, color='black',label='Serie_S_n')\n",
    "plt.plot(Sequence_a_n, color='red',label='Sequence_a_n')\n",
    "plt.legend()"
   ]
  },
  {
   "cell_type": "markdown",
   "metadata": {
    "id": "AKWJ1F7hac8T"
   },
   "source": [
    "# Geometric Series\n",
    "\n",
    "## Modified from Arithmetic Series -  [Wolfram MathWorld](https://mathworld.wolfram.com/GeometricSeries.html)\n"
   ]
  },
  {
   "cell_type": "markdown",
   "metadata": {
    "id": "W5zx_-nR81GI"
   },
   "source": [
    "An geometric series is the sum of a sequence $\\{a_k\\}$ for $k=1, 2, ..., $ in which each term is computed from the previous one by adding (or subtracting) a constant $d$. \n",
    "\n",
    "\\begin{align*}\n",
    "a_0 &\\ \\ =\\ \\ r^0 \\ \\ =\\ \\ 1\\\\\n",
    "a_1 &\\ \\ =\\ \\ a_0 *  r \\ \\ =\\ \\  r\\\\\n",
    "a_2 &\\ \\ =\\ \\ a_1 * r\\ \\ =\\ \\ a_0 * r^2  \\ \\ =\\ \\ r^2 \\\\\n",
    "a_3 &\\ \\ =\\ \\ a_2 * r \\ \\ =\\ \\ a_0 * r^3 \\ \\ =\\ \\  r^3  \\\\\n",
    "a_4 &\\ \\ =\\ \\ a_3 * r\\ \\  =\\ \\ a_0 * r^4 \\ \\  =\\ \\ r^4  \\\\\n",
    "\\vdots\\\\\n",
    "a_k &\\ \\ =\\ \\ a_{(k-1)}* r \\ =\\   a_0 * r^k \\ \\  =\\ \\  r^k\n",
    "\\end{align*}\n",
    "\n",
    "The sum of the first $n$ terms  of  the geometric sequence (called an geometric serie)  is then given by\n",
    "$$\n",
    "\\begin{array}{ll}\n",
    "S_n &=  1 + r + r^2 + \\cdots + r^{n-1} +r^n \\\\\n",
    " &=  (1 + r + r^2 + \\cdots + r^{n-1} ) +r^n \\\\\n",
    " &= S_{n-1}  +r^n \n",
    "\\end{array}\n",
    "$$\n",
    "\n",
    "$$\n",
    "\\begin{array}{ll}\n",
    "S_n &=  1 + r + r^2 + \\cdots + r^{n-1} +r^n \\\\\n",
    " &=  1 + (r + r^2 + \\cdots + r^{n-1}  +r^n)  \\\\\n",
    " &=   1 + r (1 +  r  + r^2 + \\cdots + r^{n-1} )  \\\\\n",
    "  &=   1 + r   S_{n-1} \n",
    "\\end{array}\n",
    "$$\n",
    "\n",
    "Then\n",
    "$$\n",
    " S_{n-1}  +r^n =   1 + r   S_{n-1} \n",
    "$$\n",
    "\n",
    "Therefore\n",
    "$$\n",
    " S_{n-1} (1 -r)   +r^n =   1 - r^n \n",
    "$$\n",
    "\n",
    "$$\n",
    " S_{n-1}   =   \\frac{1 - r^n }{1 -r}\n",
    "$$\n",
    "\n",
    "$$\n",
    " S_{n}   =   \\frac{1 - r^{n+1} }{1 -r}  = \\frac{ r^{n+1} - 1}{r -1}\n",
    "$$\n"
   ]
  },
  {
   "cell_type": "markdown",
   "metadata": {
    "id": "CDUYfT8k8crr"
   },
   "source": [
    "## Nodes in Complete Binary Tree with $L=0,1,2,\\cdots , L-1$ levels \n",
    "\n",
    "![](https://raw.githubusercontent.com/gjhernandezp/algorithms/master/Lab7/ComBinTree.png)\n",
    "\n",
    "In a complete binary tree you have in ecah level $k =0,1,2,\\cdots $  $ 2^k $\n",
    "\n",
    "$$\n",
    "\\begin{array}{ll}\n",
    "\\text {Level } 0 \\rightarrow 2^0 = 1 \\text { node (root)} \\\\\n",
    "\\text {Level } 1 \\rightarrow 2^1 = 2 \\text { nodes} \\\\\n",
    "\\text {Level } 2 \\rightarrow 2^2 = 4 \\text { nodes} \\\\\n",
    "\\text {Level } 3 \\rightarrow 2^3 = 8 \\text { nodes} \\\\\n",
    "\\vdots\\\\\n",
    "\\text {Level } k \\rightarrow 2^k  \\text { nodes} \\\\\n",
    "\\end{array}\n",
    "$$\n",
    "\n",
    "nodes, with $l = 0,1,2, ... $ the level\n",
    "\n",
    "Total number of the complte tree with $L=0,1,2,\\cdots , L-1$ levels\n",
    "\n",
    "$$ \n",
    "2^0 + 2^1 + 2^2 + \\cdots +2^{L-1}  = 1 + 2 + 4 + \\cdots +2^{L-1} = \\sum_{k=0}^{L-1} 2^k = \\frac{ 2^{L} - 1}{2 -1} = 2^{L} - 1\n",
    "$$"
   ]
  },
  {
   "cell_type": "markdown",
   "metadata": {},
   "source": [
    "## Your own example of Geometric series "
   ]
  },
  {
   "cell_type": "markdown",
   "metadata": {},
   "source": [
    "### Example 1"
   ]
  },
  {
   "cell_type": "markdown",
   "metadata": {},
   "source": [
    "This code gives out the sum of the previous Binary tree's nodes for n=40"
   ]
  },
  {
   "cell_type": "markdown",
   "metadata": {},
   "source": [
    "### Code"
   ]
  },
  {
   "cell_type": "code",
   "execution_count": 101,
   "metadata": {},
   "outputs": [
    {
     "data": {
      "text/plain": [
       "2199023255551.0"
      ]
     },
     "execution_count": 101,
     "metadata": {},
     "output_type": "execute_result"
    }
   ],
   "source": [
    "n = 40\n",
    "a = 1.0\n",
    "r = 2.0\n",
    "SN = 0.0\n",
    "for i in range(0,n+1):\n",
    "    SN += a*((r)**(i))\n",
    "SN"
   ]
  },
  {
   "cell_type": "code",
   "execution_count": 102,
   "metadata": {
    "id": "YvMkYU8UNOll"
   },
   "outputs": [
    {
     "data": {
      "text/plain": [
       "2199023255551.0"
      ]
     },
     "execution_count": 102,
     "metadata": {},
     "output_type": "execute_result"
    }
   ],
   "source": [
    "a*( (1-r**(n+1))/(1-r) )"
   ]
  },
  {
   "cell_type": "markdown",
   "metadata": {},
   "source": [
    "### Graph"
   ]
  },
  {
   "cell_type": "code",
   "execution_count": 136,
   "metadata": {},
   "outputs": [
    {
     "data": {
      "text/plain": [
       "<matplotlib.legend.Legend at 0x7f55cc2474c0>"
      ]
     },
     "execution_count": 136,
     "metadata": {},
     "output_type": "execute_result"
    },
    {
     "data": {
      "image/png": "[encoded data removed]",
      "text/plain": [
       "<Figure size 432x288 with 1 Axes>"
      ]
     },
     "metadata": {
      "needs_background": "light"
     },
     "output_type": "display_data"
    }
   ],
   "source": [
    "import matplotlib.pyplot as plt\n",
    "\n",
    "n = 10\n",
    "a = 1.0\n",
    "r = 2.0\n",
    "\n",
    "S_n = 0\n",
    "Serie_S_n=[]\n",
    "Sequence_a_n =[]\n",
    "\n",
    "for i in range(1,n+1):\n",
    "  S_n +=  a*((r)**(i))\n",
    "  Serie_S_n.append(S_n)\n",
    "  Sequence_a_n.append(i)\n",
    "\n",
    "plt.plot(Serie_S_n, color='black',label='Serie_S_n')\n",
    "plt.plot(Sequence_a_n, color='red',label='Sequence_a_n')\n",
    "plt.legend()"
   ]
  },
  {
   "cell_type": "markdown",
   "metadata": {
    "id": "Dd3RWDwJe2xD"
   },
   "source": [
    "## Zenon Arrow\n",
    "\n",
    "![](https://raw.githubusercontent.com/gjhernandezp/algorithms/master/Lab7/zeno-paradox-arrow.png)\n",
    "\n",
    "https://leseditionsdeschavonnes.com/2018/10/15/the-paradox-of-achilles-and-the-tortoise/\n",
    "\n",
    "\n",
    "\n",
    "$$ \n",
    "\\lim_{n\\rightarrow \\infty} \\left\\{\\left(\\frac{1}{2}\\right)^0 + \\left(\\frac{1}{2}\\right)^1 +\\left(\\frac{1}{2}\\right)^2 + \\cdots +\\left(\\frac{1}{2}\\right)^{n} \\right\\} = \\lim_{n\\rightarrow \\infty} \\left\\{ 1 +\\frac{1}{2} + \\frac{1}{4} + \\frac{1}{8} + \\cdots +\\frac{1}{2^{n}}\\right\\}  = \\lim_{n\\rightarrow \\infty} \\sum_{k=0}^{n} \\left(\\frac{1}{2}\\right)^k = \\lim_{n\\rightarrow \\infty} \\frac{ 1- \\left(\\frac{1}{2}\\right)^n  }{1 - \\left(\\frac{1}{2}\\right) } = \\frac{ 1}{1 - \\left(\\frac{1}{2}\\right)} = 2\n",
    "$$"
   ]
  },
  {
   "cell_type": "markdown",
   "metadata": {},
   "source": [
    "### Example 2\n",
    "\n",
    "This code gives out the sum of the Zenon Arrow series for n=40"
   ]
  },
  {
   "cell_type": "markdown",
   "metadata": {
    "id": "R-J4EekBNPkd"
   },
   "source": [
    "### Code"
   ]
  },
  {
   "cell_type": "code",
   "execution_count": 105,
   "metadata": {
    "id": "8xdBovY3NEW_"
   },
   "outputs": [
    {
     "data": {
      "text/plain": [
       "1.9999999999990905"
      ]
     },
     "execution_count": 105,
     "metadata": {},
     "output_type": "execute_result"
    }
   ],
   "source": [
    "n = 40\n",
    "a = 1.0\n",
    "r = 0.5\n",
    "SN = 0.0\n",
    "for i in range(0,n+1):\n",
    "    SN += a*((r)**(i))\n",
    "SN"
   ]
  },
  {
   "cell_type": "code",
   "execution_count": 107,
   "metadata": {},
   "outputs": [
    {
     "data": {
      "text/plain": [
       "1.9999999999990905"
      ]
     },
     "execution_count": 107,
     "metadata": {},
     "output_type": "execute_result"
    }
   ],
   "source": [
    "a*( (1-r**(n+1))/(1-r) )"
   ]
  },
  {
   "cell_type": "markdown",
   "metadata": {},
   "source": [
    "### Graph"
   ]
  },
  {
   "cell_type": "code",
   "execution_count": 142,
   "metadata": {},
   "outputs": [
    {
     "data": {
      "text/plain": [
       "<matplotlib.legend.Legend at 0x7f55cc0133d0>"
      ]
     },
     "execution_count": 142,
     "metadata": {},
     "output_type": "execute_result"
    },
    {
     "data": {
      "image/png": "[encoded data removed]",
      "text/plain": [
       "<Figure size 432x288 with 1 Axes>"
      ]
     },
     "metadata": {
      "needs_background": "light"
     },
     "output_type": "display_data"
    }
   ],
   "source": [
    "import matplotlib.pyplot as plt\n",
    "\n",
    "n = 15\n",
    "a = 1.0\n",
    "r = 0.5\n",
    "\n",
    "S_n = 0\n",
    "Serie_S_n=[]\n",
    "Sequence_a_n =[]\n",
    "\n",
    "for i in range(1,n+1):\n",
    "  S_n +=  a*((r)**(i))\n",
    "  Serie_S_n.append(S_n)\n",
    "  Sequence_a_n.append(i)\n",
    "\n",
    "\n",
    "plt.plot(Serie_S_n, color='black',label='Serie_S_n')\n",
    "plt.plot(Sequence_a_n, color='red',label='Sequence_a_n')\n",
    "plt.legend()"
   ]
  },
  {
   "cell_type": "markdown",
   "metadata": {
    "id": "dh2ntBeoNQlN"
   },
   "source": [
    "# Power Sums \n",
    "\n",
    "*   https://mathworld.wolfram.com/PowerSum.html\n",
    "*   https://www.researchgate.net/publication/331933608_The_Powers_Sums_Bernoulli_Numbers_Bernoulli_Polynomials_Rethinked\n",
    "*   https://en.wikipedia.org/wiki/Sums_of_powers\n",
    "\n"
   ]
  },
  {
   "cell_type": "markdown",
   "metadata": {},
   "source": [
    "# Power Sum [Wolfram MathWorld](https://mathworld.wolfram.com/PowerSum.html)"
   ]
  },
  {
   "cell_type": "markdown",
   "metadata": {},
   "source": [
    "The sum of pth powers of a set of n variables x_k, given by:\n",
    "\n",
    "\\begin{align*}\n",
    "S_p(x_1,...,x_n) &\\ = \\sum_{k=1}^n x^p_k\\\\\n",
    "\\end{align*}"
   ]
  },
  {
   "cell_type": "markdown",
   "metadata": {},
   "source": [
    "### Example 1\n",
    "\n",
    "The sum of $k$ times the $k^{th}$ power of x is given analytically by\n",
    "\n",
    "\\begin{align*}\n",
    "\\sum_{k=0}^n kx^k = \\frac{x - (n+1)x^{n+1} + nx^{x+2}}{(x-1)^2}\n",
    "\\end{align*}\n"
   ]
  },
  {
   "cell_type": "markdown",
   "metadata": {},
   "source": [
    "# Code "
   ]
  },
  {
   "cell_type": "markdown",
   "metadata": {},
   "source": [
    "This code gives the sum of:\n",
    "\n",
    "\\begin{align*}\n",
    "\\sum_{k=0}^n 3^kk = \\frac{3 - (n+1)3^{n+1} + n3^{3+2}}{(3-1)^2}\n",
    "\\end{align*}\n",
    "\n",
    "for n=10"
   ]
  },
  {
   "cell_type": "code",
   "execution_count": 122,
   "metadata": {},
   "outputs": [
    {
     "data": {
      "text/plain": [
       "841449.0"
      ]
     },
     "execution_count": 122,
     "metadata": {},
     "output_type": "execute_result"
    }
   ],
   "source": [
    "n = 10\n",
    "x = 3.0\n",
    "SN = 0.0\n",
    "for i in range(0,n+1):\n",
    "    SN += i*((x)**(i))\n",
    "SN"
   ]
  },
  {
   "cell_type": "code",
   "execution_count": 118,
   "metadata": {},
   "outputs": [
    {
     "data": {
      "text/plain": [
       "841449.0"
      ]
     },
     "execution_count": 118,
     "metadata": {},
     "output_type": "execute_result"
    }
   ],
   "source": [
    "((x-(n+1)*(x**(n+1))) + (n*(x**(n+2))))/(x-1)**2"
   ]
  },
  {
   "cell_type": "markdown",
   "metadata": {},
   "source": [
    "### Graph"
   ]
  },
  {
   "cell_type": "code",
   "execution_count": 143,
   "metadata": {},
   "outputs": [
    {
     "data": {
      "text/plain": [
       "<matplotlib.legend.Legend at 0x7f55c2ffba30>"
      ]
     },
     "execution_count": 143,
     "metadata": {},
     "output_type": "execute_result"
    },
    {
     "data": {
      "image/png": "[encoded data removed]",
      "text/plain": [
       "<Figure size 432x288 with 1 Axes>"
      ]
     },
     "metadata": {
      "needs_background": "light"
     },
     "output_type": "display_data"
    }
   ],
   "source": [
    "import matplotlib.pyplot as plt\n",
    "\n",
    "n = 10\n",
    "x = 3.0\n",
    "\n",
    "S_n = 0\n",
    "Serie_S_n=[]\n",
    "Sequence_a_n =[]\n",
    "\n",
    "for i in range(1,n+1):\n",
    "  S_n += i*((x)**(i))\n",
    "  Serie_S_n.append(S_n)\n",
    "  Sequence_a_n.append(i)\n",
    "\n",
    "\n",
    "plt.plot(Serie_S_n, color='black',label='Serie_S_n')\n",
    "plt.plot(Sequence_a_n, color='red',label='Sequence_a_n')\n",
    "plt.legend()"
   ]
  },
  {
   "cell_type": "markdown",
   "metadata": {},
   "source": [
    "### Example 2\n",
    "\n",
    "This code gives the sum of:\n",
    "\n",
    "\\begin{align*}\n",
    "\\sum_{k=0}^n \\frac{1}{2}^k k = \\frac{\\frac{1}{2} - (n+1)\\frac{1}{2}^{n+1} + n\\frac{1}{2}^{\\frac{1}{2}+2}}{(\\frac{1}{2}-1)^2}\n",
    "\\end{align*}\n",
    "\n",
    "for n=10\n"
   ]
  },
  {
   "cell_type": "code",
   "execution_count": 152,
   "metadata": {},
   "outputs": [
    {
     "data": {
      "text/plain": [
       "1.98828125"
      ]
     },
     "execution_count": 152,
     "metadata": {},
     "output_type": "execute_result"
    }
   ],
   "source": [
    "n = 10\n",
    "x = 0.5\n",
    "SN = 0.0\n",
    "\n",
    "for i in range(0,n+1):\n",
    "    SN += i*((x)**(i))\n",
    "SN"
   ]
  },
  {
   "cell_type": "code",
   "execution_count": 153,
   "metadata": {},
   "outputs": [
    {
     "data": {
      "text/plain": [
       "1.98828125"
      ]
     },
     "execution_count": 153,
     "metadata": {},
     "output_type": "execute_result"
    }
   ],
   "source": [
    "((x-(n+1)*(x**(n+1))) + (n*(x**(n+2))))/(x-1)**2"
   ]
  },
  {
   "cell_type": "markdown",
   "metadata": {},
   "source": [
    "### Graph"
   ]
  },
  {
   "cell_type": "code",
   "execution_count": 155,
   "metadata": {},
   "outputs": [
    {
     "data": {
      "text/plain": [
       "<matplotlib.legend.Legend at 0x7f55c2ec8130>"
      ]
     },
     "execution_count": 155,
     "metadata": {},
     "output_type": "execute_result"
    },
    {
     "data": {
      "image/png": "[encoded data removed]",
      "text/plain": [
       "<Figure size 432x288 with 1 Axes>"
      ]
     },
     "metadata": {
      "needs_background": "light"
     },
     "output_type": "display_data"
    }
   ],
   "source": [
    "import matplotlib.pyplot as plt\n",
    "\n",
    "n = 10\n",
    "x = 0.5\n",
    "\n",
    "S_n = 0\n",
    "Serie_S_n=[]\n",
    "Sequence_a_n =[]\n",
    "\n",
    "for i in range(1,n+1):\n",
    "  S_n += i*((x)**(i))\n",
    "  Serie_S_n.append(S_n)\n",
    "  Sequence_a_n.append(i)\n",
    "\n",
    "\n",
    "plt.plot(Serie_S_n, color='black',label='Serie_S_n')\n",
    "plt.plot(Sequence_a_n, color='red',label='Sequence_a_n')\n",
    "plt.legend()"
   ]
  },
  {
   "cell_type": "code",
   "execution_count": null,
   "metadata": {},
   "outputs": [],
   "source": []
  }
 ],
 "metadata": {
  "colab": {
   "collapsed_sections": [],
   "name": "ArithmeticSeriesPowerSeriesPowerSums.ipynb",
   "provenance": []
  },
  "kernelspec": {
   "display_name": "Python 3",
   "language": "python",
   "name": "python3"
  },
  "language_info": {
   "codemirror_mode": {
    "name": "ipython",
    "version": 3
   },
   "file_extension": ".py",
   "mimetype": "text/x-python",
   "name": "python",
   "nbconvert_exporter": "python",
   "pygments_lexer": "ipython3",
   "version": "3.9.2"
  }
 },
 "nbformat": 4,
 "nbformat_minor": 1
}
